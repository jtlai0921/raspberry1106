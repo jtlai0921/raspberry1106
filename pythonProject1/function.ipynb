{
 "cells": [
  {
   "cell_type": "code",
   "execution_count": 3,
   "metadata": {
    "collapsed": true,
    "pycharm": {
     "is_executing": false
    }
   },
   "outputs": [
    {
     "name": "stdout",
     "text": [
      "quack\n",
      "That was unexpected\n"
     ],
     "output_type": "stream"
    }
   ],
   "source": [
    "def do_nothing():\n",
    "    pass;\n",
    "\n",
    "do_nothing()\n",
    "\n",
    "def make_a_sound():\n",
    "    print(\"quack\")\n",
    "\n",
    "make_a_sound();\n",
    "\n",
    "def agree():\n",
    "    return False\n",
    "\n",
    "if agree():\n",
    "    print(\"Splendid!\")\n",
    "else:\n",
    "    print(\"That was unexpected\")"
   ]
  },
  {
   "cell_type": "code",
   "execution_count": 7,
   "outputs": [
    {
     "data": {
      "text/plain": "\"I've never heard of the colorblue\""
     },
     "metadata": {},
     "output_type": "execute_result",
     "execution_count": 7
    }
   ],
   "source": [
    "def echo(anything):\n",
    "    return anything + ' ' + anything;\n",
    "\n",
    "echo(\"Hello\")\n",
    "\n",
    "def commentary(color):\n",
    "    if color == 'red':\n",
    "        return \"It's a tomato\"\n",
    "    elif color == \"green\":\n",
    "        return \"It's a green pepper\"\n",
    "    elif color == \"bee purple\":\n",
    "        return  \" i don't know what it is.\"\n",
    "    else:\n",
    "        return  \"I've never heard of the color\" + color;\n",
    "\n",
    "comment = commentary(\"blue\")\n",
    "comment"
   ],
   "metadata": {
    "collapsed": false,
    "pycharm": {
     "name": "#%%\n",
     "is_executing": false
    }
   }
  },
  {
   "cell_type": "code",
   "execution_count": null,
   "outputs": [],
   "source": [
    "\n"
   ],
   "metadata": {
    "collapsed": false,
    "pycharm": {
     "name": "#%%\n"
    }
   }
  }
 ],
 "metadata": {
  "kernelspec": {
   "display_name": "Python 3",
   "language": "python",
   "name": "python3"
  },
  "language_info": {
   "codemirror_mode": {
    "name": "ipython",
    "version": 2
   },
   "file_extension": ".py",
   "mimetype": "text/x-python",
   "name": "python",
   "nbconvert_exporter": "python",
   "pygments_lexer": "ipython2",
   "version": "2.7.6"
  },
  "pycharm": {
   "stem_cell": {
    "cell_type": "raw",
    "source": [],
    "metadata": {
     "collapsed": false
    }
   }
  }
 },
 "nbformat": 4,
 "nbformat_minor": 0
}