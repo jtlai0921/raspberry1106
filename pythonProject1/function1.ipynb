{
 "cells": [
  {
   "cell_type": "code",
   "execution_count": 3,
   "metadata": {
    "collapsed": true,
    "pycharm": {
     "is_executing": false
    }
   },
   "outputs": [],
   "source": [
    "def print_args(*args):\n",
    "    for item in args:\n",
    "         print('Positional argument tuple:', item)\n",
    "   \n",
    "\n",
    "print_args()"
   ]
  },
  {
   "cell_type": "code",
   "execution_count": 5,
   "outputs": [
    {
     "name": "stdout",
     "text": [
      "Positional argument tuple: 3\n",
      "Positional argument tuple: 2\n",
      "Positional argument tuple: 3\n",
      "Positional argument tuple: wait\n",
      "Positional argument tuple: uH....\n",
      "Need this one: cap\n",
      "Need  this one: gloves\n",
      "All the rest: ('scarf', 'monocle', 'mustache wax')\n"
     ],
     "output_type": "stream"
    }
   ],
   "source": [
    "print_args(3, 2, 3, 'wait', 'uH....')\n",
    "\n",
    "def print_more(required1, required2, *args):\n",
    "    print(\"Need this one:\",required1)\n",
    "    print(\"Need  this one:\", required2)\n",
    "    print('All the rest:', args)\n",
    "\n",
    "\n",
    "print_more('cap', 'gloves', 'scarf', 'monocle', 'mustache wax')\n",
    "\n",
    "\n"
   ],
   "metadata": {
    "collapsed": false,
    "pycharm": {
     "name": "#%%\n",
     "is_executing": false
    }
   }
  }
 ],
 "metadata": {
  "kernelspec": {
   "display_name": "Python 3",
   "language": "python",
   "name": "python3"
  },
  "language_info": {
   "codemirror_mode": {
    "name": "ipython",
    "version": 2
   },
   "file_extension": ".py",
   "mimetype": "text/x-python",
   "name": "python",
   "nbconvert_exporter": "python",
   "pygments_lexer": "ipython2",
   "version": "2.7.6"
  },
  "pycharm": {
   "stem_cell": {
    "cell_type": "raw",
    "source": [],
    "metadata": {
     "collapsed": false
    }
   }
  }
 },
 "nbformat": 4,
 "nbformat_minor": 0
}