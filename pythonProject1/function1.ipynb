{
 "cells": [
  {
   "cell_type": "code",
   "execution_count": 3,
   "metadata": {
    "collapsed": true,
    "pycharm": {
     "is_executing": false
    }
   },
   "outputs": [],
   "source": [
    "def print_args(*args):\n",
    "    for item in args:\n",
    "         print('Positional argument tuple:', item)\n",
    "   \n",
    "\n",
    "print_args()"
   ]
  },
  {
   "cell_type": "code",
   "execution_count": 6,
   "outputs": [
    {
     "name": "stdout",
     "text": [
      "Positional argument tuple: 3\n",
      "Positional argument tuple: 2\n",
      "Positional argument tuple: 3\n",
      "Positional argument tuple: wait\n",
      "Positional argument tuple: uH....\n",
      "Need this one: cap\n",
      "Need  this one: gloves\n",
      "All the rest: ('scarf', 'monocle', 'mustache wax')\n"
     ],
     "output_type": "stream"
    },
    {
     "data": {
      "text/plain": "\"print(value, ..., sep=' ', end='\\\\n', file=sys.stdout, flush=False)\\n\\nPrints the values to a stream, or to sys.stdout by default.\\nOptional keyword arguments:\\nfile:  a file-like object (stream); defaults to the current sys.stdout.\\nsep:   string inserted between values, default a space.\\nend:   string appended after the last value, default a newline.\\nflush: whether to forcibly flush the stream.\""
     },
     "metadata": {},
     "output_type": "execute_result",
     "execution_count": 6
    }
   ],
   "source": [
    "print_args(3, 2, 3, 'wait', 'uH....')\n",
    "\n",
    "def print_more(required1, required2, *args):\n",
    "    print(\"Need this one:\",required1)\n",
    "    print(\"Need  this one:\", required2)\n",
    "    print('All the rest:', args)\n",
    "\n",
    "\n",
    "print_more('cap', 'gloves', 'scarf', 'monocle', 'mustache wax')\n",
    "\n",
    "\n"
   ],
   "metadata": {
    "collapsed": false,
    "pycharm": {
     "name": "#%%\n",
     "is_executing": false
    }
   }
  },
  {
   "cell_type": "code",
   "execution_count": 7,
   "outputs": [
    {
     "name": "stdout",
     "text": [
      "keyword arguments: {'wine': 'merlot', 'entree': 'mutton', 'dessert': 'macaroon'}\n"
     ],
     "output_type": "stream"
    }
   ],
   "source": [
    "def print_kwargs(**kwargs):\n",
    "    print('keyword arguments:', kwargs)\n",
    "\n",
    "\n",
    "print_kwargs(wine = 'merlot', entree='mutton', dessert='macaroon')\n"
   ],
   "metadata": {
    "collapsed": false,
    "pycharm": {
     "name": "#%%\n",
     "is_executing": false
    }
   }
  },
  {
   "cell_type": "code",
   "execution_count": 8,
   "outputs": [
    {
     "name": "stdout",
     "text": [
      "Help on function echo in module __main__:\n",
      "\n",
      "echo(anything)\n",
      "    echo return its input argument\n",
      "\n"
     ],
     "output_type": "stream"
    }
   ],
   "source": [
    "def echo(anything):\n",
    "    \"\"\" echo return its input argument\"\"\"\n",
    "    return  anything;\n",
    "\n",
    "help(echo)"
   ],
   "metadata": {
    "collapsed": false,
    "pycharm": {
     "name": "#%%\n",
     "is_executing": false
    }
   }
  },
  {
   "cell_type": "code",
   "execution_count": 11,
   "outputs": [
    {
     "name": "stdout",
     "text": [
      "at the top level: fruitbat\n",
      "inside print_global: fruitbat\n",
      "inside change_and_print_global: fruitbat\n",
      "after the change: wombat\n"
     ],
     "output_type": "stream"
    }
   ],
   "source": [
    "#namespace\n",
    "animal = 'fruitbat'\n",
    "def print_global():\n",
    "    print('inside print_global:',animal)\n",
    "\n",
    "print('at the top level:', animal)\n",
    "print_global()\n",
    "\n",
    "def change_and_print_global():\n",
    "    global animal\n",
    "    print('inside change_and_print_global:', animal)\n",
    "    animal = 'wombat'\n",
    "    print('after the change:', animal)\n",
    "\n",
    "change_and_print_global()"
   ],
   "metadata": {
    "collapsed": false,
    "pycharm": {
     "name": "#%%\n",
     "is_executing": false
    }
   }
  },
  {
   "cell_type": "code",
   "execution_count": null,
   "outputs": [],
   "source": [
    "\n"
   ],
   "metadata": {
    "collapsed": false,
    "pycharm": {
     "name": "#%%\n"
    }
   }
  }
 ],
 "metadata": {
  "kernelspec": {
   "display_name": "Python 3",
   "language": "python",
   "name": "python3"
  },
  "language_info": {
   "codemirror_mode": {
    "name": "ipython",
    "version": 2
   },
   "file_extension": ".py",
   "mimetype": "text/x-python",
   "name": "python",
   "nbconvert_exporter": "python",
   "pygments_lexer": "ipython2",
   "version": "2.7.6"
  },
  "pycharm": {
   "stem_cell": {
    "cell_type": "raw",
    "source": [],
    "metadata": {
     "collapsed": false
    }
   }
  }
 },
 "nbformat": 4,
 "nbformat_minor": 0
}